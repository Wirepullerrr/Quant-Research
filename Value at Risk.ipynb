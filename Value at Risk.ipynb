{
 "cells": [
  {
   "cell_type": "markdown",
   "id": "d768e8a2-0313-49f2-8b97-a11c1340c481",
   "metadata": {},
   "source": [
    "## Value at Risk (VaR)"
   ]
  },
  {
   "cell_type": "markdown",
   "id": "9b3c594c-52f4-4b5a-bcaf-53bf1373013d",
   "metadata": {},
   "source": [
    "Value at Risk (VaR) tells the maximum possible loss for a given portfolio over a certain time horizon, with a certain confidence level $\\alpha$, or\n",
    "$$\n",
    "\\Pr\\bigl(\\text{Loss}\\le -\\text{VaR}\\bigr)=1-\\alpha\n",
    "$$\n",
    "Consider a portfolio of n assets with corresponding weights $w$ and covariance matrix $\\sigma$, then the value this portfolio V, and its return and risk are\n",
    "$$\n",
    "\\begin{aligned}\n",
    "V          &= \\sum_{i=1}^{n} V_i \\\\\n",
    "r_p        &= w^{T}r \\\\\n",
    "\\sigma_p^2 &= w^{T}\\Sigma w\n",
    "\\end{aligned}\n",
    "$$\n",
    "Assuming return normality, The value at risk of the portfolio in dollar amount is\n",
    "$$\n",
    "\\text{VaR}_p = z_\\alpha\\,\\sigma_p\\,V\n",
    "$$\n",
    "where z is the inverser normal of confidence level $\\alpha$."
   ]
  },
  {
   "cell_type": "markdown",
   "id": "59748e20-7596-4a8b-b886-49f0cff517e9",
   "metadata": {},
   "source": [
    "Marginal VaR is defined as derivative of portfolio w.r.t the per unit dollar change in value of the component stock, or\n",
    "$$\n",
    "\\text{VaR}_i = z_\\alpha\\,\\sigma_i\\,V_i,\n",
    "\\qquad\n",
    "\\text{VaR}_p < \\sum_{i=1}^{n}\\text{VaR}_i\n",
    "$$\n",
    "It also can be rewritten as\n",
    "$$\n",
    "\\text{MVaR}_i\n",
    "= z_\\alpha\\,\\frac{\\sigma_{ip}}{\\sigma_p}\n",
    "= z_\\alpha\\,\\sigma_i\\,\\rho_{ip}\n",
    "= z_\\alpha\\,\\sigma_p\\,\\beta_{ip}\n",
    "$$\n",
    "At last, Component VaR (CVaR) is defined as,\n",
    "$$\n",
    "\\text{CVaR}_i = \\text{MVaR}_i \\; \\times V_i\n",
    "$$\n",
    "$$\n",
    "\\sum_{i=1}^{n}\\text{CVaR}_i \\;=\\; \\text{VaR}_p\n",
    "$$"
   ]
  },
  {
   "cell_type": "code",
   "execution_count": 4,
   "id": "f4fd6b15-ae4e-4ffb-9d97-19190f415226",
   "metadata": {},
   "outputs": [
    {
     "name": "stdout",
     "output_type": "stream",
     "text": [
      "\n",
      "=== Portfolio VaR (α=95%) : $2,813.27 ===\n",
      "      Position ($)  Position (%)   CVaR ($)  CVaR (%)    Beta\n",
      "AAPL     3971.5733        0.0184    45.2053    0.0161  0.8733\n",
      "KO       7257.0068        0.0336    50.8528    0.0181  0.5376\n",
      "DIS     30851.8822        0.1429   365.6325    0.1300  0.9092\n",
      "XOM     23623.4879        0.1095   276.3547    0.0982  0.8975\n",
      "JPM     43168.3044        0.2000   732.1264    0.2602  1.3012\n",
      "MCD     86602.9907        0.4012  1157.5416    0.4115  1.0255\n",
      "WMT     20361.7090        0.0943   185.5606    0.0660  0.6992\n"
     ]
    }
   ],
   "source": [
    "import yfinance as yf\n",
    "import numpy as np\n",
    "import pandas as pd\n",
    "from scipy.stats import norm\n",
    "\n",
    "assets   = ['AAPL', 'KO', 'DIS', 'XOM', 'JPM', 'MCD', 'WMT']\n",
    "holdings = np.array([100, 200, 300, 400, 500, 600, 700])   # shares\n",
    "start, end = '2015-01-01', '2017-12-31'\n",
    "alpha   = 0.95                           # confidence level\n",
    "z_alpha = norm.ppf(alpha)                # ≈ 1.645 for 95 %\n",
    "\n",
    "# --------------------------------------------------\n",
    "# 1 )  get prices with yf.Ticker() one-by-one\n",
    "# --------------------------------------------------\n",
    "price_dict = {}\n",
    "for tic in assets:\n",
    "    price_dict[tic] = (\n",
    "        yf.Ticker(tic)\n",
    "          .history(start=start, end=end)[\"Close\"]\n",
    "          .rename(tic)                   # nice column name\n",
    "    )\n",
    "\n",
    "prices = pd.concat(price_dict.values(), axis=1)            # (T × n)\n",
    "\n",
    "# --------------------------------------------------\n",
    "# 2 )  daily log-returns, covariance\n",
    "# --------------------------------------------------\n",
    "log_ret = np.log(prices / prices.shift(1)).dropna()\n",
    "cov_mat = log_ret.cov().values                # Σ   (n×n)\n",
    "\n",
    "# --------------------------------------------------\n",
    "# 3 )  current dollar exposure\n",
    "# --------------------------------------------------\n",
    "latest_px = prices.iloc[-1].values            # price on 'end' date\n",
    "V_i = latest_px * holdings                    # $ exposure vector (n,)\n",
    "V_p = V_i.sum()                               # total $\n",
    "\n",
    "# --------------------------------------------------\n",
    "# 4 )  portfolio VaR (delta-normal)\n",
    "# --------------------------------------------------\n",
    "sigma_p = np.sqrt(V_i @ cov_mat @ V_i)        # σₚ   ($ units)\n",
    "VaR_p   = z_alpha * sigma_p                   # in $\n",
    "\n",
    "# --------------------------------------------------\n",
    "# 5 )  individual VaR, Marginal VaR, Component VaR\n",
    "# --------------------------------------------------\n",
    "sigma_i = np.sqrt(np.diag(cov_mat))           # σᵢ   (% units)\n",
    "VaR_i   = z_alpha * sigma_i * V_i             # standalone VaR ($)\n",
    "\n",
    "cov_ip  = cov_mat @ V_i                       # cov(asset, p) in $²\n",
    "beta_i  = cov_ip / (sigma_p**2 / V_p)         # portfolio beta\n",
    "MVaR_i  = (VaR_p / V_p) * beta_i              # $/per extra $\n",
    "\n",
    "CVaR_i  = MVaR_i * V_i                        # Component VaR ($)\n",
    "\n",
    "# --------------------------------------------------\n",
    "# 6 )  tidy table\n",
    "# --------------------------------------------------\n",
    "table = pd.DataFrame({\n",
    "    \"Position ($)\" : V_i,\n",
    "    \"Position (%)\" : V_i / V_p,\n",
    "    \"CVaR ($)\"     : CVaR_i,\n",
    "    \"CVaR (%)\"     : CVaR_i / VaR_p,\n",
    "    \"Beta\"         : beta_i\n",
    "}, index=assets).round(4)\n",
    "\n",
    "print(f\"\\n=== Portfolio VaR (α={alpha:.0%}) : ${VaR_p:,.2f} ===\")\n",
    "print(table)\n"
   ]
  },
  {
   "cell_type": "code",
   "execution_count": null,
   "id": "02a5f0fd-8e66-4f63-9673-fae48fe2d9fe",
   "metadata": {},
   "outputs": [],
   "source": []
  }
 ],
 "metadata": {
  "kernelspec": {
   "display_name": "Python 3 (ipykernel)",
   "language": "python",
   "name": "python3"
  },
  "language_info": {
   "codemirror_mode": {
    "name": "ipython",
    "version": 3
   },
   "file_extension": ".py",
   "mimetype": "text/x-python",
   "name": "python",
   "nbconvert_exporter": "python",
   "pygments_lexer": "ipython3",
   "version": "3.12.4"
  }
 },
 "nbformat": 4,
 "nbformat_minor": 5
}
